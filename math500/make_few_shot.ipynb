{
 "cells": [
  {
   "cell_type": "code",
   "execution_count": 3,
   "id": "f04cd9fe",
   "metadata": {},
   "outputs": [],
   "source": [
    "import pandas as pd\n",
    "import random\n",
    "import json\n",
    "from math_utils import *\n",
    "\n",
    "data_path = \"../data/math500/train.jsonl\"\n",
    "with open(data_path, 'r', encoding='utf-8') as f:\n",
    "    data = [json.loads(line) for line in f]"
   ]
  },
  {
   "cell_type": "code",
   "execution_count": 5,
   "id": "dca18dd4",
   "metadata": {},
   "outputs": [
    {
     "name": "stdout",
     "output_type": "stream",
     "text": [
      "Saved 3 example sets (each 5 tuples) to example_sets.json\n"
     ]
    }
   ],
   "source": [
    "seeds = [42, 2025, 505]\n",
    "example_sets = []\n",
    "\n",
    "for seed in seeds:\n",
    "    random.seed(seed)\n",
    "    samples = random.sample(data, 5)\n",
    "    examples = [\n",
    "        (\n",
    "            sample['problem'],\n",
    "            \"Let's think step by step\\n\" + sample['solution'] + '\\nThe answer is ' + sample['answer']\n",
    "        )\n",
    "        for sample in samples\n",
    "    ]\n",
    "    with open(f'few_shot_seed_{seed}.json', 'w', encoding='utf-8') as f:\n",
    "        json.dump(examples, f, ensure_ascii=False, indent=2)\n",
    "\n",
    "\n",
    "\n",
    "print(\"Saved 3 example sets (each 5 tuples) to example_sets.json\")\n"
   ]
  },
  {
   "cell_type": "code",
   "execution_count": null,
   "id": "97860642",
   "metadata": {},
   "outputs": [],
   "source": []
  }
 ],
 "metadata": {
  "kernelspec": {
   "display_name": "proj2",
   "language": "python",
   "name": "python3"
  },
  "language_info": {
   "codemirror_mode": {
    "name": "ipython",
    "version": 3
   },
   "file_extension": ".py",
   "mimetype": "text/x-python",
   "name": "python",
   "nbconvert_exporter": "python",
   "pygments_lexer": "ipython3",
   "version": "3.10.15"
  }
 },
 "nbformat": 4,
 "nbformat_minor": 5
}
