{
 "cells": [
  {
   "cell_type": "code",
   "execution_count": null,
   "metadata": {},
   "outputs": [
    {
     "name": "stderr",
     "output_type": "stream",
     "text": [
      "/home/ehdtjr1220/miniconda3/envs/proj2/lib/python3.10/site-packages/tqdm/auto.py:21: TqdmWarning: IProgress not found. Please update jupyter and ipywidgets. See https://ipywidgets.readthedocs.io/en/stable/user_install.html\n",
      "  from .autonotebook import tqdm as notebook_tqdm\n"
     ]
    }
   ],
   "source": [
    "import json\n",
    "import sys\n",
    "import os\n",
    "from pathlib import Path\n",
    "import json \n",
    "from hotpotqa_utils import *\n",
    "import pandas as pd\n",
    "import numpy as np\n",
    "\n",
    "sys.path.append('../')  \n",
    "\n",
    "from utils import * \n",
    "\n",
    "from collections import Counter"
   ]
  },
  {
   "cell_type": "code",
   "execution_count": null,
   "metadata": {},
   "outputs": [],
   "source": [
    "dataset = json.load(open(f'../data/hotpotqa/hotpotqa.json'))\n",
    "with open(\"react_prompt.json\", 'r') as f:\n",
    "    fewshot = json.load(f)"
   ]
  },
  {
   "cell_type": "code",
   "execution_count": null,
   "metadata": {},
   "outputs": [
    {
     "name": "stdout",
     "output_type": "stream",
     "text": [
      "gpt-4o\n",
      "zero Average EM: 0.3760 Average F1: 0.4988\n",
      "few Average EM: 0.4464 Average F1: 0.5836\n",
      "gpt-4o-mini\n",
      "zero Average EM: 0.3148 Average F1: 0.4141\n",
      "few Average EM: 0.3404 Average F1: 0.4513\n",
      "llama\n",
      "zero Average EM: 0.1520 Average F1: 0.2119\n",
      "few Average EM: 0.1900 Average F1: 0.2514\n"
     ]
    }
   ],
   "source": [
    "for model in ['gpt-4o', 'gpt-4o-mini']:\n",
    "    print(model)\n",
    "    for shot_type in ['zero', 'few']:\n",
    "        file_path = f\"../result/hotpotqa/{model}/hotpotqa_{shot_type}.jsonl\"\n",
    "        if not os.path.exists(file_path):\n",
    "            print(f\"File not found: {file_path}\")\n",
    "        else:\n",
    "            with open(file_path, 'r', encoding='utf-8') as f:\n",
    "                data = [json.loads(line) for line in f]\n",
    "            preds = [[] for _ in range(5)]\n",
    "            for entry in data:\n",
    "                for idx, out in enumerate(entry['model_outputs']):\n",
    "                    preds[idx].append(extract_answer(out))\n",
    "\n",
    "\n",
    "            em_scores = []\n",
    "            f1_scores = []\n",
    "            for i in range(5):\n",
    "                em, f1 = get_em_f1(dataset, preds[i])\n",
    "                em_scores.append(em.mean())\n",
    "                f1_scores.append(f1.mean())\n",
    "\n",
    "\n",
    "            avg_em = sum(em_scores) / len(em_scores)\n",
    "            avg_f1 = sum(f1_scores) / len(f1_scores)\n",
    "            print(\"{} Average EM: {:.4f} Average F1: {:.4f}\".format(shot_type, avg_em, avg_f1))\n",
    "\n",
    "\n",
    "print(\"llama\")\n",
    "for shot_type in ['zero', 'few']:\n",
    "    file_path = f\"../result/hotpotqa/llama/hotpotqa_{shot_type}.jsonl\"\n",
    "    if not os.path.exists(file_path):\n",
    "        print(f\"File not found: {file_path}\")\n",
    "    else:\n",
    "        with open(file_path, 'r', encoding='utf-8') as f:\n",
    "            data = [json.loads(line) for line in f]\n",
    "        preds = [[] for _ in range(5)]\n",
    "        for entry in data:\n",
    "            for idx, out in enumerate(entry['resps'][0]):\n",
    "                preds[idx].append(extract_answer(out))\n",
    "\n",
    "\n",
    "        em_scores = []\n",
    "        f1_scores = []\n",
    "        for i in range(5):\n",
    "            em, f1 = get_em_f1(dataset, preds[i])\n",
    "            em_scores.append(em.mean())\n",
    "            f1_scores.append(f1.mean())\n",
    "\n",
    "\n",
    "        avg_em = sum(em_scores) / len(em_scores)\n",
    "        avg_f1 = sum(f1_scores) / len(f1_scores)\n",
    "        print(\"{} Average EM: {:.4f} Average F1: {:.4f}\".format(shot_type, avg_em, avg_f1))"
   ]
  },
  {
   "cell_type": "code",
   "execution_count": null,
   "metadata": {},
   "outputs": [],
   "source": [
    "output_dir = \"../likelihood/hotpotqa/\"\n",
    "\n",
    "subjects = [\n",
    "    \"gpt-4o/few\", \n",
    "    \"gpt-4o-mini/few\", \n",
    "    \"llama/few\"\n",
    "]\n",
    "\n",
    "def add_pred(prob_type_filter, output_dir):\n",
    "    output_dir = f\"{output_dir}/{prob_type_filter}\"\n",
    "    likelihoods_file = os.path.join(output_dir, \"all_likelihoods.json\")\n",
    "    if not os.path.exists(likelihoods_file):\n",
    "        print(f\"Error: {likelihoods_file} not found.\")\n",
    "        return\n",
    "    with open(likelihoods_file, \"r\") as f:\n",
    "        likelihoods = json.load(f)\n",
    "    \n",
    "    problem_groups = list(zip(*likelihoods))\n",
    "    dataset = json.load(open(f'../data/hotpotqa/BM25/hotpotqa-bm25.json'))\n",
    "\n",
    "    for problem_likelihoods in tqdm(problem_groups, desc=\"Processing problems\"):\n",
    "        problem_list = list(problem_likelihoods)\n",
    "        for cl in problem_list: \n",
    "            pred = extract_answer(cl['model_output'])\n",
    "            cl['pred'] = pred\n",
    "            gt = dataset[cl['id']]['answers']\n",
    "            cl['gt'] = gt\n",
    "\n",
    "            em, f1 = get_em_f1([dataset[cl['id']]], [pred])\n",
    "            cl['is_correct'] = (int(em[0]), float(f1[0]))\n",
    "\n",
    "\n",
    "    with open(likelihoods_file, \"w\") as f:\n",
    "        json.dump(likelihoods, f, indent=4)\n",
    "    \n",
    "    print(f\"Updated file saved at: {likelihoods_file}\")"
   ]
  },
  {
   "cell_type": "code",
   "execution_count": 4,
   "metadata": {},
   "outputs": [
    {
     "name": "stderr",
     "output_type": "stream",
     "text": [
      "Processing problems: 100%|██████████| 500/500 [00:01<00:00, 486.93it/s]\n"
     ]
    },
    {
     "name": "stdout",
     "output_type": "stream",
     "text": [
      "Updated file saved at: ../likelihood_qwen/hotpotqa//llama/few/all_likelihoods.json\n"
     ]
    }
   ],
   "source": [
    "for subject in subjects:\n",
    "    add_pred(subject, output_dir)"
   ]
  },
  {
   "cell_type": "code",
   "execution_count": null,
   "metadata": {},
   "outputs": [],
   "source": []
  }
 ],
 "metadata": {
  "kernelspec": {
   "display_name": "proj2",
   "language": "python",
   "name": "python3"
  },
  "language_info": {
   "codemirror_mode": {
    "name": "ipython",
    "version": 3
   },
   "file_extension": ".py",
   "mimetype": "text/x-python",
   "name": "python",
   "nbconvert_exporter": "python",
   "pygments_lexer": "ipython3",
   "version": "3.10.15"
  }
 },
 "nbformat": 4,
 "nbformat_minor": 2
}
