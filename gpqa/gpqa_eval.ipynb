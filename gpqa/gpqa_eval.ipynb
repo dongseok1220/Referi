{
 "cells": [
  {
   "cell_type": "code",
   "execution_count": null,
   "metadata": {},
   "outputs": [
    {
     "name": "stderr",
     "output_type": "stream",
     "text": [
      "/home/ehdtjr1220/miniconda3/envs/proj2/lib/python3.10/site-packages/tqdm/auto.py:21: TqdmWarning: IProgress not found. Please update jupyter and ipywidgets. See https://ipywidgets.readthedocs.io/en/stable/user_install.html\n",
      "  from .autonotebook import tqdm as notebook_tqdm\n"
     ]
    }
   ],
   "source": [
    "import sys\n",
    "import os\n",
    "from pathlib import Path\n",
    "import json \n",
    "from gpqa_utils import *\n",
    "import pandas as pd\n",
    "import numpy as np\n",
    "\n",
    "sys.path.append('../')  \n",
    "\n",
    "from utils import * \n",
    "\n",
    "from collections import Counter"
   ]
  },
  {
   "cell_type": "code",
   "execution_count": 2,
   "metadata": {},
   "outputs": [],
   "source": [
    "examples = load_examples(\"../data/gpqa/gpqa_diamond.csv\", seed=0)"
   ]
  },
  {
   "cell_type": "code",
   "execution_count": null,
   "metadata": {},
   "outputs": [],
   "source": [
    "types = ['zero', 'few'] \n",
    "\n",
    "for model in ['gpt-4o-mini', 'gpt-4o']:\n",
    "    for type_ in types:\n",
    "        idx_acc = [0 for i in range(5)]\n",
    "        file_path = f\"../result/gpqa/{model}/gpqa_{type_}.jsonl\"\n",
    "        if not os.path.exists(file_path):\n",
    "            print(f\"File not found for subject: {type_}\")\n",
    "            continue\n",
    "\n",
    "        with open(file_path, 'r', encoding='utf-8') as f:\n",
    "            data = [json.loads(line) for line in f]\n",
    "\n",
    "        worse_case = 0 \n",
    "        sc_correct = 0\n",
    "        any_correct_count = 0  \n",
    "        total_questions = len(data)\n",
    "\n",
    "        for entry, example in zip(data, examples): \n",
    "            flag = 0\n",
    "            preds = []\n",
    "\n",
    "\n",
    "            any_flag = 0  \n",
    "\n",
    "            for idx, resp in enumerate(entry['model_outputs']):\n",
    "                pred = parse_sampled_answer(resp)\n",
    "                if pred is None:\n",
    "                    is_correct = False\n",
    "                else: \n",
    "                    is_correct = (LETTER_TO_INDEX[pred] == example.correct_index)\n",
    "\n",
    "\n",
    "                if not is_correct:\n",
    "                    flag = 1\n",
    "                idx_acc[idx] += int(is_correct)\n",
    "                preds.append(pred)\n",
    "\n",
    "\n",
    "                if is_correct:\n",
    "                    any_flag = 1\n",
    "\n",
    "            if flag == 0:\n",
    "                worse_case += 1 \n",
    "\n",
    "\n",
    "            any_correct_count += any_flag\n",
    "\n",
    "\n",
    "            valid_preds = [p for p in preds if p is not None]\n",
    "            if len(valid_preds) == 0:\n",
    "                sc_is_correct = False\n",
    "            else:\n",
    "                majority_letter, count = Counter(valid_preds).most_common(1)[0]\n",
    "                sc_is_correct = (LETTER_TO_INDEX[majority_letter] == example.correct_index)\n",
    "            sc_correct += int(sc_is_correct)\n",
    "        \n",
    "\n",
    "        print(f\"{model}\")\n",
    "        print(f\"Results for {type_}:\")\n",
    "\n",
    "\n",
    "        print(\"  Worse-case (all correct for a question): \"\n",
    "              f\"{worse_case / total_questions:.3f}\")\n",
    "\n",
    "\n",
    "        total = 0\n",
    "        for idx, acc in enumerate(idx_acc):\n",
    "            acc_ratio = acc / total_questions\n",
    "            print(f\"  Repetition {idx}: {acc_ratio:.3f}\")\n",
    "            total += acc_ratio\n",
    "        print(f\"  Average (across 5 samples): {total / 5:.3f}\")\n",
    "\n",
    "\n",
    "        print(f\"  Self-consistency Accuracy: {sc_correct / total_questions:.3f}\")\n",
    "\n",
    "\n",
    "        any_correct_acc = any_correct_count / total_questions\n",
    "        print(f\"  Any-correct Accuracy: {any_correct_acc:.3f}\\n\")"
   ]
  },
  {
   "cell_type": "code",
   "execution_count": null,
   "metadata": {},
   "outputs": [],
   "source": [
    "\n",
    "print(\"llama\")\n",
    "for type_ in types:\n",
    "    idx_acc = [0 for i in range(5)]\n",
    "    file_path = f\"../result/gpqa/llama/gpqa_{type_}.jsonl\"\n",
    "    if not os.path.exists(file_path):\n",
    "        print(f\"File not found for subject: {type_}\")\n",
    "        continue\n",
    "\n",
    "    with open(file_path, 'r', encoding='utf-8') as f:\n",
    "        data = [json.loads(line) for line in f]\n",
    "    \n",
    "    worse_case = 0\n",
    "    sc_correct = 0\n",
    "    any_correct_count = 0  \n",
    "    total_questions = len(data)\n",
    "\n",
    "    for entry, example in zip(data, examples): \n",
    "        flag = 0\n",
    "        preds = []\n",
    "        any_flag = 0  \n",
    "\n",
    "\n",
    "        for idx, resp in enumerate(entry['resps'][0]):\n",
    "            pred = parse_sampled_answer(resp)\n",
    "            if pred is None:\n",
    "                is_correct = False\n",
    "            else:\n",
    "                is_correct = (LETTER_TO_INDEX[pred] == example.correct_index)\n",
    "\n",
    "\n",
    "            idx_acc[idx] += int(is_correct)\n",
    "\n",
    "            if not is_correct:\n",
    "                flag = 1\n",
    "\n",
    "            preds.append(pred)\n",
    "\n",
    "\n",
    "            if is_correct:\n",
    "                any_flag = 1\n",
    "\n",
    "        if flag == 0:\n",
    "            worse_case += 1\n",
    "\n",
    "\n",
    "        any_correct_count += any_flag\n",
    "\n",
    "\n",
    "        valid_preds = [p for p in preds if p is not None]\n",
    "        if len(valid_preds) == 0:\n",
    "            sc_is_correct = False\n",
    "        else:\n",
    "            majority_letter, count = Counter(valid_preds).most_common(1)[0]\n",
    "            sc_is_correct = (LETTER_TO_INDEX[majority_letter] == example.correct_index)\n",
    "        sc_correct += int(sc_is_correct)\n",
    "\n",
    "\n",
    "    print(f\"Results for {type_}:\")\n",
    "    print(\"  Worse-case (all correct in a single question): \"\n",
    "          f\"{worse_case / total_questions:.3f}\")\n",
    "\n",
    "\n",
    "    total = 0\n",
    "    for idx, acc in enumerate(idx_acc):\n",
    "        acc_ratio = acc / total_questions\n",
    "        print(f\"  Repetition {idx}: {acc_ratio:.3f}\")\n",
    "        total += acc_ratio\n",
    "    print(f\"  Average (across 5 samples): {total / 5:.3f}\")\n",
    "\n",
    "\n",
    "    print(f\"  Self-consistency Accuracy: {sc_correct / total_questions:.3f}\")\n",
    "\n",
    "\n",
    "    any_correct_acc = any_correct_count / total_questions\n",
    "    print(f\"  Any-correct Accuracy: {any_correct_acc:.3f}\\n\")\n"
   ]
  },
  {
   "cell_type": "code",
   "execution_count": null,
   "metadata": {},
   "outputs": [],
   "source": [
    "output_dir = \"../likelihood/gpqa/\"\n",
    "\n",
    "subjects = [\n",
    "    \"gpt-4o/few\",\n",
    "    \"gpt-4o-mini/few\", \n",
    "    \"llama/few\"\n",
    "]\n",
    "\n",
    "\n",
    "def add_pred(prob_type_filter, output_dir):\n",
    "    output_dir = f\"{output_dir}/{prob_type_filter}\"\n",
    "    likelihoods_file = os.path.join(output_dir, \"all_likelihoods.json\")\n",
    "    if not os.path.exists(likelihoods_file):\n",
    "        print(f\"Error: {likelihoods_file} not found.\")\n",
    "        return\n",
    "    with open(likelihoods_file, \"r\") as f:\n",
    "        likelihoods = json.load(f)\n",
    "    \n",
    "    examples = load_examples(\"../data/gpqa/gpqa_diamond.csv\", seed=0)\n",
    "    problem_groups = list(zip(*likelihoods))\n",
    "\n",
    "    for problem_likelihoods in tqdm(problem_groups, desc=\"Processing problems\"):\n",
    "        problem_list = list(problem_likelihoods)\n",
    "        for cl in problem_list: \n",
    "            pred = parse_sampled_answer(cl['model_output'])\n",
    "            cl['pred'] = pred\n",
    "            gt = examples[cl['id']].correct_index\n",
    "            cl['gt'] = gt\n",
    "\n",
    "            if (pred == None):\n",
    "                is_correct = False\n",
    "            else :\n",
    "                is_correct = (LETTER_TO_INDEX[pred] == gt)\n",
    "\n",
    "            cl['is_correct'] = is_correct\n",
    "            \n",
    "    with open(likelihoods_file, \"w\") as f:\n",
    "        json.dump(likelihoods, f, indent=4)\n",
    "    \n",
    "    print(f\"Updated file saved at: {likelihoods_file}\")"
   ]
  },
  {
   "cell_type": "code",
   "execution_count": 6,
   "metadata": {},
   "outputs": [
    {
     "name": "stderr",
     "output_type": "stream",
     "text": [
      "Processing problems: 100%|██████████| 198/198 [00:00<00:00, 35733.07it/s]\n"
     ]
    },
    {
     "name": "stdout",
     "output_type": "stream",
     "text": [
      "Updated file saved at: ../likelihood_1B/gpqa//gpt-4o/few/all_likelihoods.json\n"
     ]
    },
    {
     "name": "stderr",
     "output_type": "stream",
     "text": [
      "Processing problems: 100%|██████████| 198/198 [00:00<00:00, 38850.68it/s]\n"
     ]
    },
    {
     "name": "stdout",
     "output_type": "stream",
     "text": [
      "Updated file saved at: ../likelihood_1B/gpqa//gpt-4o-mini/few/all_likelihoods.json\n"
     ]
    },
    {
     "name": "stderr",
     "output_type": "stream",
     "text": [
      "Processing problems: 100%|██████████| 198/198 [00:00<00:00, 10676.78it/s]\n"
     ]
    },
    {
     "name": "stdout",
     "output_type": "stream",
     "text": [
      "Updated file saved at: ../likelihood_1B/gpqa//llama/few/all_likelihoods.json\n"
     ]
    }
   ],
   "source": [
    "for subject in subjects:\n",
    "    add_pred(subject, output_dir)"
   ]
  },
  {
   "cell_type": "code",
   "execution_count": null,
   "metadata": {},
   "outputs": [],
   "source": []
  }
 ],
 "metadata": {
  "kernelspec": {
   "display_name": "proj2",
   "language": "python",
   "name": "python3"
  },
  "language_info": {
   "codemirror_mode": {
    "name": "ipython",
    "version": 3
   },
   "file_extension": ".py",
   "mimetype": "text/x-python",
   "name": "python",
   "nbconvert_exporter": "python",
   "pygments_lexer": "ipython3",
   "version": "3.10.15"
  }
 },
 "nbformat": 4,
 "nbformat_minor": 2
}
