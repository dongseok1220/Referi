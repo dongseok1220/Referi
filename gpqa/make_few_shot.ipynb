{
 "cells": [
  {
   "cell_type": "code",
   "execution_count": null,
   "id": "f04cd9fe",
   "metadata": {},
   "outputs": [],
   "source": [
    "import pandas as pd\n",
    "import random\n",
    "import json\n",
    "\n",
    "main_df    = pd.read_csv('../data/gpqa/gpqa_main.csv')      # gpqa_main.csv \n",
    "diamond_df = pd.read_csv('../data/gpqa/gpqa_diamond.csv')   # gpqa_diamond.csv "
   ]
  },
  {
   "cell_type": "code",
   "execution_count": null,
   "id": "dca18dd4",
   "metadata": {},
   "outputs": [],
   "source": [
    "diamond_ids = set(diamond_df['Question'])\n",
    "candidates  = main_df[~main_df['Question'].isin(diamond_ids)].reset_index(drop=True)\n",
    "\n",
    "\n",
    "def make_few_shot_sets(df, seeds=(505, 1115), k=5):\n",
    "    all_sets = []\n",
    "    for seed in seeds:\n",
    "\n",
    "        sample_df = df.sample(n=k, random_state=seed).reset_index(drop=True)\n",
    "\n",
    "\n",
    "        random.seed(seed)\n",
    "\n",
    "        questions = []\n",
    "        for _, row in sample_df.iterrows():\n",
    "\n",
    "            options = [\n",
    "                (row['Incorrect Answer 1'], False),\n",
    "                (row['Incorrect Answer 2'], False),\n",
    "                (row['Incorrect Answer 3'], False),\n",
    "                (row['Correct Answer'],    True),\n",
    "            ]\n",
    "            random.shuffle(options)\n",
    "\n",
    "\n",
    "            choices = {}\n",
    "            correct_letter = None\n",
    "            for letter, (text, is_correct) in zip(['A','B','C','D'], options):\n",
    "                choices[letter] = text\n",
    "                if is_correct:\n",
    "                    correct_letter = letter\n",
    "\n",
    "            questions.append({\n",
    "                \"question\":       row[\"Question\"],\n",
    "                \"choices\":        choices,\n",
    "                \"explanation\":    row.get(\"Explanation\", \"\"),\n",
    "                \"correct_answer\": correct_letter\n",
    "            })\n",
    "\n",
    "        all_sets.append({\n",
    "            \"seed\":      seed,\n",
    "            \"questions\": questions\n",
    "        })\n",
    "    return all_sets\n"
   ]
  },
  {
   "cell_type": "code",
   "execution_count": null,
   "id": "ee7b4416",
   "metadata": {},
   "outputs": [
    {
     "name": "stdout",
     "output_type": "stream",
     "text": [
      "Saved few_shot_seed_505.json\n",
      "Saved few_shot_seed_1115.json\n"
     ]
    }
   ],
   "source": [
    "few_shot_sets = make_few_shot_sets(candidates)\n",
    "\n",
    "for fs in few_shot_sets:\n",
    "    out = {\"questions\": fs[\"questions\"]}\n",
    "    fname = f'few_shot_seed_{fs[\"seed\"]}.json'\n",
    "    with open(fname, 'w', encoding='utf-8') as f:\n",
    "        json.dump(out, f, ensure_ascii=False, indent=2)\n",
    "    print(f'Saved {fname}')\n"
   ]
  },
  {
   "cell_type": "code",
   "execution_count": null,
   "id": "45b2c64f",
   "metadata": {},
   "outputs": [],
   "source": []
  }
 ],
 "metadata": {
  "kernelspec": {
   "display_name": "proj2",
   "language": "python",
   "name": "python3"
  },
  "language_info": {
   "codemirror_mode": {
    "name": "ipython",
    "version": 3
   },
   "file_extension": ".py",
   "mimetype": "text/x-python",
   "name": "python",
   "nbconvert_exporter": "python",
   "pygments_lexer": "ipython3",
   "version": "3.10.15"
  }
 },
 "nbformat": 4,
 "nbformat_minor": 5
}
