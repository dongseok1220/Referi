{
 "cells": [
  {
   "cell_type": "code",
   "execution_count": null,
   "metadata": {},
   "outputs": [
    {
     "name": "stderr",
     "output_type": "stream",
     "text": [
      "/home/ehdtjr1220/miniconda3/envs/proj2/lib/python3.10/site-packages/tqdm/auto.py:21: TqdmWarning: IProgress not found. Please update jupyter and ipywidgets. See https://ipywidgets.readthedocs.io/en/stable/user_install.html\n",
      "  from .autonotebook import tqdm as notebook_tqdm\n"
     ]
    }
   ],
   "source": [
    "import sys\n",
    "import os\n",
    "from pathlib import Path\n",
    "import json \n",
    "import pandas as pd\n",
    "import numpy as np\n",
    "from datasets import load_dataset\n",
    "\n",
    "from drop_utils import *\n",
    "\n",
    "sys.path.append('../')  \n",
    "\n",
    "from utils import * \n",
    "\n",
    "from collections import Counter"
   ]
  },
  {
   "cell_type": "code",
   "execution_count": null,
   "metadata": {},
   "outputs": [],
   "source": [
    "import random \n",
    "\n",
    "random.seed(0)\n",
    "dataset = pd.read_parquet(\"../data/drop/drop_sub.parquet\", engine=\"pyarrow\")\n",
    "dataset = dataset.to_dict(orient=\"records\")  \n",
    "# dataset = random.sample(dataset, k=500)\n",
    "# dataset = convert_ndarray_to_list(dataset)\n",
    "# dataset = convert_ndarray_to_list(dataset)\n",
    "\n",
    "with open(\"prompt.json\", 'r') as f:\n",
    "    fewshot = json.load(f)"
   ]
  },
  {
   "cell_type": "code",
   "execution_count": null,
   "metadata": {},
   "outputs": [
    {
     "name": "stdout",
     "output_type": "stream",
     "text": [
      "gpt-4o\n",
      "zero Average EM: 0.7512 Average F1: 0.8528\n",
      "few Average EM: 0.8064 Average F1: 0.8920\n",
      "gpt-4o-mini\n",
      "zero Average EM: 0.7764 Average F1: 0.8562\n",
      "few Average EM: 0.7684 Average F1: 0.8312\n"
     ]
    }
   ],
   "source": [
    "for model in ['gpt-4o', 'gpt-4o-mini']: \n",
    "    print(model)\n",
    "    for shot_type in ['zero', 'few']:\n",
    "        file_path = f\"../result/drop/{model}/drop_{shot_type}.jsonl\"\n",
    "        if not os.path.exists(file_path):\n",
    "            print(f\"File not found: {file_path}\")\n",
    "            continue\n",
    "        else:\n",
    "            with open(file_path, 'r', encoding='utf-8') as f:\n",
    "                data = [json.loads(line) for line in f]\n",
    "\n",
    "        em = [[] for _ in range(5)]\n",
    "        f1 = [[] for _ in range(5)]\n",
    "\n",
    "        for entry in data:\n",
    "            golds = get_answers(entry['entry'])\n",
    "            for idx, out in enumerate(entry['model_outputs']):\n",
    "                pred = extract_answer(out)\n",
    "                max_em = 0\n",
    "                max_f1 = 0\n",
    "                for gold_answer in golds:\n",
    "                    exact_match, f1_score = get_metrics(pred, gold_answer)\n",
    "                    if gold_answer[0].strip():\n",
    "                        max_em = max(max_em, exact_match)\n",
    "                        max_f1 = max(max_f1, f1_score)\n",
    "                em[idx].append(max_em)\n",
    "                f1[idx].append(max_f1)\n",
    "\n",
    "        avg_em = np.mean([np.mean(em[i]) for i in range(5)])\n",
    "        avg_f1 = np.mean([np.mean(f1[i]) for i in range(5)])\n",
    "\n",
    "        print(\"{} Average EM: {:.4f} Average F1: {:.4f}\".format(shot_type, avg_em, avg_f1))\n"
   ]
  },
  {
   "cell_type": "code",
   "execution_count": null,
   "metadata": {},
   "outputs": [
    {
     "name": "stdout",
     "output_type": "stream",
     "text": [
      "llama\n",
      "zero Average EM: 0.6044 Average F1: 0.6635\n",
      "zero Any Correct EM: 0.8580 Any Correct F1: 0.9680\n",
      "few Average EM: 0.6140 Average F1: 0.6730\n",
      "few Any Correct EM: 0.8560 Any Correct F1: 0.9680\n"
     ]
    }
   ],
   "source": [
    "print(\"llama\")\n",
    "for shot_type in ['zero', 'few']:\n",
    "    file_path = f\"../result/drop/llama/drop_{shot_type}.jsonl\"\n",
    "    if not os.path.exists(file_path):\n",
    "        print(f\"File not found: {file_path}\")\n",
    "        continue\n",
    "    else:\n",
    "        with open(file_path, 'r', encoding='utf-8') as f:\n",
    "            data = [json.loads(line) for line in f]\n",
    "\n",
    "    em = [[] for _ in range(5)]\n",
    "    f1 = [[] for _ in range(5)]\n",
    "    any_correct_em = []  \n",
    "    any_correct_f1 = []  \n",
    "\n",
    "    for entry in data:\n",
    "        golds = get_answers(entry['doc'])\n",
    "        all_resps_correct_em = False\n",
    "        all_resps_correct_f1 = False\n",
    "\n",
    "        for idx, out in enumerate(entry['resps'][0]):\n",
    "            pred = extract_answer(out)\n",
    "            max_em = 0\n",
    "            max_f1 = 0\n",
    "            for gold_answer in golds:\n",
    "                exact_match, f1_score = get_metrics(pred, gold_answer)\n",
    "                if gold_answer[0].strip():\n",
    "                    max_em = max(max_em, exact_match)\n",
    "                    max_f1 = max(max_f1, f1_score)\n",
    "\n",
    "            em[idx].append(max_em)\n",
    "            f1[idx].append(max_f1)\n",
    "\n",
    "\n",
    "            if max_em == 1:\n",
    "                all_resps_correct_em = max_em\n",
    "            if max_f1 != 0:\n",
    "                all_resps_correct_f1 = max_f1\n",
    "\n",
    "\n",
    "        any_correct_em.append(1 if all_resps_correct_em else 0)\n",
    "        any_correct_f1.append(1 if all_resps_correct_f1 else 0)\n",
    "\n",
    "\n",
    "    avg_em = np.mean([np.mean(em[i]) for i in range(5)])\n",
    "    avg_f1 = np.mean([np.mean(f1[i]) for i in range(5)])\n",
    "    avg_any_correct_em = np.mean(any_correct_em)  \n",
    "    avg_any_correct_f1 = np.mean(any_correct_f1)  \n",
    "\n",
    "    print(\"{} Average EM: {:.4f} Average F1: {:.4f}\".format(shot_type, avg_em, avg_f1))\n",
    "    print(\"{} Any Correct EM: {:.4f} Any Correct F1: {:.4f}\".format(shot_type, avg_any_correct_em, avg_any_correct_f1))\n"
   ]
  },
  {
   "cell_type": "code",
   "execution_count": null,
   "metadata": {},
   "outputs": [],
   "source": [
    "output_dir = \"../likelihood/drop/\"\n",
    "\n",
    "subjects = [\n",
    "    \"gpt-4o-mini/few\",\n",
    "    \"gpt-4o/few\",\n",
    "    \"llama/few\"\n",
    "]\n",
    "\n",
    "def add_pred(prob_type_filter, output_dir):\n",
    "    output_dir = f\"{output_dir}/{prob_type_filter}\"\n",
    "    likelihoods_file = os.path.join(output_dir, \"all_likelihoods.json\")\n",
    "    if not os.path.exists(likelihoods_file):\n",
    "        print(f\"Error: {likelihoods_file} not found.\")\n",
    "        return\n",
    "    with open(likelihoods_file, \"r\") as f:\n",
    "        likelihoods = json.load(f)\n",
    "    \n",
    "    problem_groups = list(zip(*likelihoods))\n",
    "    for problem_likelihoods in tqdm(problem_groups, desc=\"Processing problems\"):\n",
    "        problem_list = list(problem_likelihoods)\n",
    "        for cl in problem_list: \n",
    "\n",
    "            pred = extract_answer(cl['model_output'])\n",
    "            cl['pred'] = pred\n",
    "        \n",
    "\n",
    "            gt = get_answers(cl['answer'])\n",
    "            cl['gt'] = gt\n",
    "            \n",
    "\n",
    "            max_em = 0\n",
    "            max_f1 = 0 \n",
    "            for gold in gt:\n",
    "                exact_match, f1_score = get_metrics(pred, gold)\n",
    "\n",
    "                if gold[0].strip():\n",
    "                    max_em = max(max_em, exact_match)\n",
    "                    max_f1 = max(max_f1, f1_score)\n",
    "\n",
    "            cl['is_correct'] = (max_em, max_f1)\n",
    "            \n",
    "    with open(likelihoods_file, \"w\") as f:\n",
    "        json.dump(likelihoods, f, indent=4)\n",
    "    \n",
    "    print(f\"Updated file saved at: {likelihoods_file}\")\n"
   ]
  },
  {
   "cell_type": "code",
   "execution_count": 4,
   "metadata": {},
   "outputs": [
    {
     "name": "stderr",
     "output_type": "stream",
     "text": [
      "Processing problems: 100%|██████████| 500/500 [00:01<00:00, 415.23it/s]\n"
     ]
    },
    {
     "name": "stdout",
     "output_type": "stream",
     "text": [
      "Updated file saved at: ../likelihood_qwen/drop//llama/few/all_likelihoods.json\n"
     ]
    }
   ],
   "source": [
    "for subject in subjects:\n",
    "    add_pred(subject, output_dir)"
   ]
  },
  {
   "cell_type": "code",
   "execution_count": null,
   "metadata": {},
   "outputs": [],
   "source": []
  }
 ],
 "metadata": {
  "kernelspec": {
   "display_name": "proj2",
   "language": "python",
   "name": "python3"
  },
  "language_info": {
   "codemirror_mode": {
    "name": "ipython",
    "version": 3
   },
   "file_extension": ".py",
   "mimetype": "text/x-python",
   "name": "python",
   "nbconvert_exporter": "python",
   "pygments_lexer": "ipython3",
   "version": "3.10.15"
  }
 },
 "nbformat": 4,
 "nbformat_minor": 2
}
